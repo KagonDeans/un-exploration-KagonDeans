{
 "cells": [
  {
   "cell_type": "code",
   "execution_count": 1,
   "id": "c5b20233",
   "metadata": {},
   "outputs": [],
   "source": [
    "import pandas as pd  \n",
    "import numpy as np  \n",
    "import matplotlib.pyplot as plt  \n",
    "import seaborn as sns"
   ]
  },
  {
   "cell_type": "code",
   "execution_count": 2,
   "id": "75d0fb76",
   "metadata": {},
   "outputs": [],
   "source": [
    "adult_lit = pd.read_csv('../data/UNdata_Export_20230926_021055618.csv', skipfooter = 2, engine = 'python')"
   ]
  },
  {
   "cell_type": "code",
   "execution_count": 3,
   "id": "d01d9511",
   "metadata": {},
   "outputs": [],
   "source": [
    "adult_lit = adult_lit.drop(columns = ['Source', 'Value Footnotes', 'Unit'])"
   ]
  },
  {
   "cell_type": "code",
   "execution_count": 4,
   "id": "de0b714d",
   "metadata": {},
   "outputs": [],
   "source": [
    "adult_lit = adult_lit.rename(columns = {'Value' : 'Percent_Value', 'Country or Area' : 'Country', 'Subgroup' : 'Gender'})"
   ]
  },
  {
   "cell_type": "code",
   "execution_count": 5,
   "id": "b20e213d",
   "metadata": {},
   "outputs": [
    {
     "data": {
      "text/html": [
       "<div>\n",
       "<style scoped>\n",
       "    .dataframe tbody tr th:only-of-type {\n",
       "        vertical-align: middle;\n",
       "    }\n",
       "\n",
       "    .dataframe tbody tr th {\n",
       "        vertical-align: top;\n",
       "    }\n",
       "\n",
       "    .dataframe thead th {\n",
       "        text-align: right;\n",
       "    }\n",
       "</style>\n",
       "<table border=\"1\" class=\"dataframe\">\n",
       "  <thead>\n",
       "    <tr style=\"text-align: right;\">\n",
       "      <th></th>\n",
       "      <th>Country</th>\n",
       "      <th>Gender</th>\n",
       "      <th>Year</th>\n",
       "      <th>Percent_Value</th>\n",
       "    </tr>\n",
       "  </thead>\n",
       "  <tbody>\n",
       "    <tr>\n",
       "      <th>0</th>\n",
       "      <td>Afghanistan</td>\n",
       "      <td>Female 15+ yr</td>\n",
       "      <td>2000</td>\n",
       "      <td>12.6</td>\n",
       "    </tr>\n",
       "    <tr>\n",
       "      <th>1</th>\n",
       "      <td>Afghanistan</td>\n",
       "      <td>Male 15+ yr</td>\n",
       "      <td>2000</td>\n",
       "      <td>43.1</td>\n",
       "    </tr>\n",
       "    <tr>\n",
       "      <th>2</th>\n",
       "      <td>Albania</td>\n",
       "      <td>Female 15+ yr</td>\n",
       "      <td>2001</td>\n",
       "      <td>98.3</td>\n",
       "    </tr>\n",
       "    <tr>\n",
       "      <th>3</th>\n",
       "      <td>Albania</td>\n",
       "      <td>Male 15+ yr</td>\n",
       "      <td>2001</td>\n",
       "      <td>99.2</td>\n",
       "    </tr>\n",
       "    <tr>\n",
       "      <th>4</th>\n",
       "      <td>Algeria</td>\n",
       "      <td>Female 15+ yr</td>\n",
       "      <td>2002</td>\n",
       "      <td>60.1</td>\n",
       "    </tr>\n",
       "    <tr>\n",
       "      <th>...</th>\n",
       "      <td>...</td>\n",
       "      <td>...</td>\n",
       "      <td>...</td>\n",
       "      <td>...</td>\n",
       "    </tr>\n",
       "    <tr>\n",
       "      <th>475</th>\n",
       "      <td>Zambia</td>\n",
       "      <td>Male 15+ yr</td>\n",
       "      <td>1990</td>\n",
       "      <td>73.0</td>\n",
       "    </tr>\n",
       "    <tr>\n",
       "      <th>476</th>\n",
       "      <td>Zimbabwe</td>\n",
       "      <td>Female 15+ yr</td>\n",
       "      <td>2004</td>\n",
       "      <td>86.2</td>\n",
       "    </tr>\n",
       "    <tr>\n",
       "      <th>477</th>\n",
       "      <td>Zimbabwe</td>\n",
       "      <td>Female 15+ yr</td>\n",
       "      <td>1992</td>\n",
       "      <td>78.5</td>\n",
       "    </tr>\n",
       "    <tr>\n",
       "      <th>478</th>\n",
       "      <td>Zimbabwe</td>\n",
       "      <td>Male 15+ yr</td>\n",
       "      <td>2004</td>\n",
       "      <td>92.7</td>\n",
       "    </tr>\n",
       "    <tr>\n",
       "      <th>479</th>\n",
       "      <td>Zimbabwe</td>\n",
       "      <td>Male 15+ yr</td>\n",
       "      <td>1992</td>\n",
       "      <td>88.9</td>\n",
       "    </tr>\n",
       "  </tbody>\n",
       "</table>\n",
       "<p>480 rows × 4 columns</p>\n",
       "</div>"
      ],
      "text/plain": [
       "         Country         Gender  Year  Percent_Value\n",
       "0    Afghanistan  Female 15+ yr  2000           12.6\n",
       "1    Afghanistan    Male 15+ yr  2000           43.1\n",
       "2        Albania  Female 15+ yr  2001           98.3\n",
       "3        Albania    Male 15+ yr  2001           99.2\n",
       "4        Algeria  Female 15+ yr  2002           60.1\n",
       "..           ...            ...   ...            ...\n",
       "475       Zambia    Male 15+ yr  1990           73.0\n",
       "476     Zimbabwe  Female 15+ yr  2004           86.2\n",
       "477     Zimbabwe  Female 15+ yr  1992           78.5\n",
       "478     Zimbabwe    Male 15+ yr  2004           92.7\n",
       "479     Zimbabwe    Male 15+ yr  1992           88.9\n",
       "\n",
       "[480 rows x 4 columns]"
      ]
     },
     "execution_count": 5,
     "metadata": {},
     "output_type": "execute_result"
    }
   ],
   "source": [
    "adult_lit"
   ]
  },
  {
   "cell_type": "code",
   "execution_count": 145,
   "id": "d7fe11ac",
   "metadata": {},
   "outputs": [
    {
     "data": {
      "text/html": [
       "<div>\n",
       "<style scoped>\n",
       "    .dataframe tbody tr th:only-of-type {\n",
       "        vertical-align: middle;\n",
       "    }\n",
       "\n",
       "    .dataframe tbody tr th {\n",
       "        vertical-align: top;\n",
       "    }\n",
       "\n",
       "    .dataframe thead th {\n",
       "        text-align: right;\n",
       "    }\n",
       "</style>\n",
       "<table border=\"1\" class=\"dataframe\">\n",
       "  <thead>\n",
       "    <tr style=\"text-align: right;\">\n",
       "      <th></th>\n",
       "      <th>Country</th>\n",
       "      <th>Gender</th>\n",
       "      <th>Year</th>\n",
       "      <th>Percent_Value</th>\n",
       "    </tr>\n",
       "  </thead>\n",
       "  <tbody>\n",
       "    <tr>\n",
       "      <th>62</th>\n",
       "      <td>Burkina Faso</td>\n",
       "      <td>Female 15+ yr</td>\n",
       "      <td>1996</td>\n",
       "      <td>8.1</td>\n",
       "    </tr>\n",
       "    <tr>\n",
       "      <th>63</th>\n",
       "      <td>Burkina Faso</td>\n",
       "      <td>Female 15+ yr</td>\n",
       "      <td>1991</td>\n",
       "      <td>8.2</td>\n",
       "    </tr>\n",
       "    <tr>\n",
       "      <th>257</th>\n",
       "      <td>Mali</td>\n",
       "      <td>Female 15+ yr</td>\n",
       "      <td>1998</td>\n",
       "      <td>11.9</td>\n",
       "    </tr>\n",
       "    <tr>\n",
       "      <th>0</th>\n",
       "      <td>Afghanistan</td>\n",
       "      <td>Female 15+ yr</td>\n",
       "      <td>2000</td>\n",
       "      <td>12.6</td>\n",
       "    </tr>\n",
       "    <tr>\n",
       "      <th>86</th>\n",
       "      <td>Chad</td>\n",
       "      <td>Female 15+ yr</td>\n",
       "      <td>2000</td>\n",
       "      <td>12.8</td>\n",
       "    </tr>\n",
       "    <tr>\n",
       "      <th>...</th>\n",
       "      <td>...</td>\n",
       "      <td>...</td>\n",
       "      <td>...</td>\n",
       "      <td>...</td>\n",
       "    </tr>\n",
       "    <tr>\n",
       "      <th>198</th>\n",
       "      <td>Kazakhstan</td>\n",
       "      <td>Male 15+ yr</td>\n",
       "      <td>1999</td>\n",
       "      <td>99.8</td>\n",
       "    </tr>\n",
       "    <tr>\n",
       "      <th>120</th>\n",
       "      <td>Cuba</td>\n",
       "      <td>Female 15+ yr</td>\n",
       "      <td>2002</td>\n",
       "      <td>99.8</td>\n",
       "    </tr>\n",
       "    <tr>\n",
       "      <th>121</th>\n",
       "      <td>Cuba</td>\n",
       "      <td>Male 15+ yr</td>\n",
       "      <td>2002</td>\n",
       "      <td>99.8</td>\n",
       "    </tr>\n",
       "    <tr>\n",
       "      <th>144</th>\n",
       "      <td>Estonia</td>\n",
       "      <td>Female 15+ yr</td>\n",
       "      <td>2000</td>\n",
       "      <td>99.8</td>\n",
       "    </tr>\n",
       "    <tr>\n",
       "      <th>147</th>\n",
       "      <td>Estonia</td>\n",
       "      <td>Male 15+ yr</td>\n",
       "      <td>1989</td>\n",
       "      <td>99.9</td>\n",
       "    </tr>\n",
       "  </tbody>\n",
       "</table>\n",
       "<p>480 rows × 4 columns</p>\n",
       "</div>"
      ],
      "text/plain": [
       "          Country         Gender  Year  Percent_Value\n",
       "62   Burkina Faso  Female 15+ yr  1996            8.1\n",
       "63   Burkina Faso  Female 15+ yr  1991            8.2\n",
       "257          Mali  Female 15+ yr  1998           11.9\n",
       "0     Afghanistan  Female 15+ yr  2000           12.6\n",
       "86           Chad  Female 15+ yr  2000           12.8\n",
       "..            ...            ...   ...            ...\n",
       "198    Kazakhstan    Male 15+ yr  1999           99.8\n",
       "120          Cuba  Female 15+ yr  2002           99.8\n",
       "121          Cuba    Male 15+ yr  2002           99.8\n",
       "144       Estonia  Female 15+ yr  2000           99.8\n",
       "147       Estonia    Male 15+ yr  1989           99.9\n",
       "\n",
       "[480 rows x 4 columns]"
      ]
     },
     "execution_count": 145,
     "metadata": {},
     "output_type": "execute_result"
    }
   ],
   "source": [
    "adult_lit.sort_values('Percent_Value')"
   ]
  },
  {
   "cell_type": "markdown",
   "id": "a420be5f",
   "metadata": {},
   "source": [
    "**Below is a line graph of the countries with the lowest average adult literacy rate for both genders.**"
   ]
  },
  {
   "cell_type": "code",
   "execution_count": 123,
   "id": "da454de7",
   "metadata": {},
   "outputs": [],
   "source": [
    "Burkin_Faso_adult_lit = adult_lit[adult_lit['Country']=='Burkina Faso']"
   ]
  },
  {
   "cell_type": "code",
   "execution_count": 124,
   "id": "5d001c20",
   "metadata": {},
   "outputs": [],
   "source": [
    "Mali_adult_lit = adult_lit[adult_lit['Country']=='Mali']"
   ]
  },
  {
   "cell_type": "code",
   "execution_count": 125,
   "id": "61c4118a",
   "metadata": {},
   "outputs": [],
   "source": [
    "Afghanistan_adult_lit = adult_lit[adult_lit['Country']=='Afghanistan']"
   ]
  },
  {
   "cell_type": "code",
   "execution_count": 126,
   "id": "af0b3d5d",
   "metadata": {},
   "outputs": [],
   "source": [
    "Chad_adult_lit = adult_lit[adult_lit['Country']=='Chad']"
   ]
  },
  {
   "cell_type": "code",
   "execution_count": 127,
   "id": "757f71ce",
   "metadata": {},
   "outputs": [],
   "source": [
    "Niger_adult_lit = adult_lit[adult_lit['Country']=='Niger']"
   ]
  },
  {
   "cell_type": "code",
   "execution_count": 128,
   "id": "cf4d5003",
   "metadata": {},
   "outputs": [
    {
     "data": {
      "image/png": "[encoded data removed]",
      "text/plain": [
       "<Figure size 640x480 with 1 Axes>"
      ]
     },
     "metadata": {},
     "output_type": "display_data"
    }
   ],
   "source": [
    "axes = plt.gca()\n",
    "Burkin_Faso_adult_lit.plot.line(x='Year', y='Percent_Value', label='Burkin Faso', ax=axes);\n",
    "Mali_adult_lit.plot.line(x='Year', y='Percent_Value', label='Mali', ax=axes);\n",
    "Afghanistan_adult_lit.plot.line(x='Year', y='Percent_Value', label='Afghanistan', ax=axes);\n",
    "Chad_adult_lit.plot.line(x='Year', y='Percent_Value', label='Chad', ax=axes);\n",
    "Niger_adult_lit.plot.line(x='Year', y='Percent_Value', label='Niger', ax=axes);"
   ]
  },
  {
   "cell_type": "markdown",
   "id": "dc66aeba",
   "metadata": {},
   "source": [
    "**Burkin Faso has the average lowest adult literacy rate which is the blue line**"
   ]
  },
  {
   "cell_type": "markdown",
   "id": "70a2bf6a",
   "metadata": {},
   "source": [
    "**   **"
   ]
  },
  {
   "cell_type": "markdown",
   "id": "61c22bac",
   "metadata": {},
   "source": [
    "**Below is a line graph of the countries with the highest average adult literacy rate for both genders**"
   ]
  },
  {
   "cell_type": "code",
   "execution_count": 138,
   "id": "30dfde0d",
   "metadata": {},
   "outputs": [],
   "source": [
    "Estonia_adult_lit = adult_lit[adult_lit['Country']=='Estonia']"
   ]
  },
  {
   "cell_type": "code",
   "execution_count": 137,
   "id": "0cd0db0d",
   "metadata": {},
   "outputs": [],
   "source": [
    "Cuba_adult_lit = adult_lit[adult_lit['Country']=='Cuba']"
   ]
  },
  {
   "cell_type": "code",
   "execution_count": 139,
   "id": "7759483c",
   "metadata": {},
   "outputs": [],
   "source": [
    "Kazakhstan_adult_lit = adult_lit[adult_lit['Country']=='Kazakhstan']"
   ]
  },
  {
   "cell_type": "code",
   "execution_count": 140,
   "id": "b7ffdc11",
   "metadata": {},
   "outputs": [],
   "source": [
    "Latvia_adult_lit = adult_lit[adult_lit['Country']=='Latvia']"
   ]
  },
  {
   "cell_type": "code",
   "execution_count": 141,
   "id": "0f993b7d",
   "metadata": {},
   "outputs": [],
   "source": [
    "Belarus_adult_lit = adult_lit[adult_lit['Country']=='Belarus']"
   ]
  },
  {
   "cell_type": "code",
   "execution_count": 143,
   "id": "fccd4e5f",
   "metadata": {
    "scrolled": false
   },
   "outputs": [
    {
     "data": {
      "image/png": "[encoded data removed]",
      "text/plain": [
       "<Figure size 640x480 with 1 Axes>"
      ]
     },
     "metadata": {},
     "output_type": "display_data"
    }
   ],
   "source": [
    "axes = plt.gca()\n",
    "Estonia_adult_lit.plot.line(x='Year', y='Percent_Value', label='Estonia', ax=axes);\n",
    "Cuba_adult_lit.plot.line(x='Year', y='Percent_Value', label='Cuba', ax=axes);\n",
    "Kazakhstan_adult_lit.plot.line(x='Year', y='Percent_Value', label='Kazakhstan', ax=axes);\n",
    "Latvia_adult_lit.plot.line(x='Year', y='Percent_Value', label='Latvia', ax=axes);\n",
    "Belarus_adult_lit.plot.line(x='Year', y='Percent_Value', label='Belarus', ax=axes);\n"
   ]
  },
  {
   "cell_type": "markdown",
   "id": "c62ef4b2",
   "metadata": {},
   "source": [
    "**Estonia has the highest adult literacy rate**"
   ]
  },
  {
   "cell_type": "code",
   "execution_count": 144,
   "id": "558342c1",
   "metadata": {},
   "outputs": [
    {
     "data": {
      "image/png": "[encoded data removed]",
      "text/plain": [
       "<Figure size 640x480 with 1 Axes>"
      ]
     },
     "metadata": {},
     "output_type": "display_data"
    }
   ],
   "source": [
    "axes = plt.gca()\n",
    "Estonia_adult_lit.plot.line(x='Year', y='Percent_Value', label='Estonia', ax=axes);\n",
    "Cuba_adult_lit.plot.line(x='Year', y='Percent_Value', label='Cuba', ax=axes);\n",
    "Kazakhstan_adult_lit.plot.line(x='Year', y='Percent_Value', label='Kazakhstan', ax=axes);\n",
    "Latvia_adult_lit.plot.line(x='Year', y='Percent_Value', label='Latvia', ax=axes);\n",
    "Belarus_adult_lit.plot.line(x='Year', y='Percent_Value', label='Belarus', ax=axes);\n",
    "Burkin_Faso_adult_lit.plot.line(x='Year', y='Percent_Value', label='Burkin Faso', ax=axes);\n",
    "Mali_adult_lit.plot.line(x='Year', y='Percent_Value', label='Mali', ax=axes);\n",
    "Afghanistan_adult_lit.plot.line(x='Year', y='Percent_Value', label='Afghanistan', ax=axes);\n",
    "Chad_adult_lit.plot.line(x='Year', y='Percent_Value', label='Chad', ax=axes);\n",
    "Niger_adult_lit.plot.line(x='Year', y='Percent_Value', label='Niger', ax=axes);"
   ]
  },
  {
   "cell_type": "markdown",
   "id": "22c9c13d",
   "metadata": {},
   "source": [
    "**2. How does the adult literacy rate differ between females and males in the same country?**"
   ]
  },
  {
   "cell_type": "code",
   "execution_count": 7,
   "id": "e125f967",
   "metadata": {},
   "outputs": [],
   "source": [
    "# Average adult literacy rate for each gender in a Country\n",
    "Fem_vs_Male_adult_lit = adult_lit.pivot_table(values = \"Percent_Value\", index = \"Country\", columns = 'Gender').reset_index()"
   ]
  },
  {
   "cell_type": "code",
   "execution_count": 10,
   "id": "f7b390bf",
   "metadata": {},
   "outputs": [],
   "source": [
    "Fem_vs_Male_adult_lit['Adults'] = ((Fem_vs_Male_adult_lit['Female 15+ yr'])+(Fem_vs_Male_adult_lit['Male 15+ yr']))/2"
   ]
  },
  {
   "cell_type": "code",
   "execution_count": 90,
   "id": "3c8a8d17",
   "metadata": {},
   "outputs": [
    {
     "data": {
      "text/html": [
       "<div>\n",
       "<style scoped>\n",
       "    .dataframe tbody tr th:only-of-type {\n",
       "        vertical-align: middle;\n",
       "    }\n",
       "\n",
       "    .dataframe tbody tr th {\n",
       "        vertical-align: top;\n",
       "    }\n",
       "\n",
       "    .dataframe thead th {\n",
       "        text-align: right;\n",
       "    }\n",
       "</style>\n",
       "<table border=\"1\" class=\"dataframe\">\n",
       "  <thead>\n",
       "    <tr style=\"text-align: right;\">\n",
       "      <th>Gender</th>\n",
       "      <th>Country</th>\n",
       "      <th>Female 15+ yr</th>\n",
       "      <th>Male 15+ yr</th>\n",
       "      <th>Adults</th>\n",
       "    </tr>\n",
       "  </thead>\n",
       "  <tbody>\n",
       "    <tr>\n",
       "      <th>19</th>\n",
       "      <td>Burkina Faso</td>\n",
       "      <td>12.025</td>\n",
       "      <td>24.725</td>\n",
       "      <td>18.375</td>\n",
       "    </tr>\n",
       "    <tr>\n",
       "      <th>72</th>\n",
       "      <td>Mali</td>\n",
       "      <td>13.900</td>\n",
       "      <td>29.700</td>\n",
       "      <td>21.800</td>\n",
       "    </tr>\n",
       "    <tr>\n",
       "      <th>25</th>\n",
       "      <td>Chad</td>\n",
       "      <td>12.800</td>\n",
       "      <td>40.800</td>\n",
       "      <td>26.800</td>\n",
       "    </tr>\n",
       "    <tr>\n",
       "      <th>0</th>\n",
       "      <td>Afghanistan</td>\n",
       "      <td>12.600</td>\n",
       "      <td>43.100</td>\n",
       "      <td>27.850</td>\n",
       "    </tr>\n",
       "    <tr>\n",
       "      <th>85</th>\n",
       "      <td>Niger</td>\n",
       "      <td>15.100</td>\n",
       "      <td>42.900</td>\n",
       "      <td>29.000</td>\n",
       "    </tr>\n",
       "    <tr>\n",
       "      <th>...</th>\n",
       "      <td>...</td>\n",
       "      <td>...</td>\n",
       "      <td>...</td>\n",
       "      <td>...</td>\n",
       "    </tr>\n",
       "    <tr>\n",
       "      <th>127</th>\n",
       "      <td>Ukraine</td>\n",
       "      <td>99.200</td>\n",
       "      <td>99.700</td>\n",
       "      <td>99.450</td>\n",
       "    </tr>\n",
       "    <tr>\n",
       "      <th>109</th>\n",
       "      <td>Slovenia</td>\n",
       "      <td>99.550</td>\n",
       "      <td>99.650</td>\n",
       "      <td>99.600</td>\n",
       "    </tr>\n",
       "    <tr>\n",
       "      <th>61</th>\n",
       "      <td>Latvia</td>\n",
       "      <td>99.450</td>\n",
       "      <td>99.800</td>\n",
       "      <td>99.625</td>\n",
       "    </tr>\n",
       "    <tr>\n",
       "      <th>41</th>\n",
       "      <td>Estonia</td>\n",
       "      <td>99.700</td>\n",
       "      <td>99.850</td>\n",
       "      <td>99.775</td>\n",
       "    </tr>\n",
       "    <tr>\n",
       "      <th>33</th>\n",
       "      <td>Cuba</td>\n",
       "      <td>99.800</td>\n",
       "      <td>99.800</td>\n",
       "      <td>99.800</td>\n",
       "    </tr>\n",
       "  </tbody>\n",
       "</table>\n",
       "<p>135 rows × 4 columns</p>\n",
       "</div>"
      ],
      "text/plain": [
       "Gender       Country  Female 15+ yr  Male 15+ yr  Adults\n",
       "19      Burkina Faso         12.025       24.725  18.375\n",
       "72              Mali         13.900       29.700  21.800\n",
       "25              Chad         12.800       40.800  26.800\n",
       "0        Afghanistan         12.600       43.100  27.850\n",
       "85             Niger         15.100       42.900  29.000\n",
       "..               ...            ...          ...     ...\n",
       "127          Ukraine         99.200       99.700  99.450\n",
       "109         Slovenia         99.550       99.650  99.600\n",
       "61            Latvia         99.450       99.800  99.625\n",
       "41           Estonia         99.700       99.850  99.775\n",
       "33              Cuba         99.800       99.800  99.800\n",
       "\n",
       "[135 rows x 4 columns]"
      ]
     },
     "execution_count": 90,
     "metadata": {},
     "output_type": "execute_result"
    }
   ],
   "source": [
    "Fem_vs_Male_adult_lit.sort_values('Adults')"
   ]
  },
  {
   "cell_type": "markdown",
   "id": "6452f5ae",
   "metadata": {},
   "source": [
    "**3. How does the female and male adult literacy rate differ on average in the same year?**"
   ]
  },
  {
   "cell_type": "code",
   "execution_count": 154,
   "id": "4fad17c8",
   "metadata": {},
   "outputs": [],
   "source": [
    "#This the percent value for both females and males in all countries for each year\n",
    "adult_lit_pivot_year = adult_lit.pivot_table(values = \"Percent_Value\", index = \"Year\", columns = 'Gender').reset_index()"
   ]
  },
  {
   "cell_type": "code",
   "execution_count": 155,
   "id": "8e930f95",
   "metadata": {},
   "outputs": [],
   "source": [
    "adult_lit_pivot_year['Adults'] = ((adult_lit_pivot_year['Female 15+ yr'])+(adult_lit_pivot_year['Male 15+ yr']))/2\n"
   ]
  },
  {
   "cell_type": "code",
   "execution_count": 156,
   "id": "5bb1c546",
   "metadata": {},
   "outputs": [
    {
     "data": {
      "text/html": [
       "<div>\n",
       "<style scoped>\n",
       "    .dataframe tbody tr th:only-of-type {\n",
       "        vertical-align: middle;\n",
       "    }\n",
       "\n",
       "    .dataframe tbody tr th {\n",
       "        vertical-align: top;\n",
       "    }\n",
       "\n",
       "    .dataframe thead th {\n",
       "        text-align: right;\n",
       "    }\n",
       "</style>\n",
       "<table border=\"1\" class=\"dataframe\">\n",
       "  <thead>\n",
       "    <tr style=\"text-align: right;\">\n",
       "      <th>Gender</th>\n",
       "      <th>Year</th>\n",
       "      <th>Female 15+ yr</th>\n",
       "      <th>Male 15+ yr</th>\n",
       "      <th>Adults</th>\n",
       "    </tr>\n",
       "  </thead>\n",
       "  <tbody>\n",
       "    <tr>\n",
       "      <th>0</th>\n",
       "      <td>1985</td>\n",
       "      <td>80.325000</td>\n",
       "      <td>88.175000</td>\n",
       "      <td>84.250000</td>\n",
       "    </tr>\n",
       "    <tr>\n",
       "      <th>1</th>\n",
       "      <td>1986</td>\n",
       "      <td>52.525000</td>\n",
       "      <td>66.650000</td>\n",
       "      <td>59.587500</td>\n",
       "    </tr>\n",
       "    <tr>\n",
       "      <th>2</th>\n",
       "      <td>1987</td>\n",
       "      <td>51.600000</td>\n",
       "      <td>70.533333</td>\n",
       "      <td>61.066667</td>\n",
       "    </tr>\n",
       "    <tr>\n",
       "      <th>3</th>\n",
       "      <td>1988</td>\n",
       "      <td>27.425000</td>\n",
       "      <td>50.175000</td>\n",
       "      <td>38.800000</td>\n",
       "    </tr>\n",
       "    <tr>\n",
       "      <th>4</th>\n",
       "      <td>1989</td>\n",
       "      <td>95.810000</td>\n",
       "      <td>98.670000</td>\n",
       "      <td>97.240000</td>\n",
       "    </tr>\n",
       "    <tr>\n",
       "      <th>5</th>\n",
       "      <td>1990</td>\n",
       "      <td>74.657143</td>\n",
       "      <td>85.121429</td>\n",
       "      <td>79.889286</td>\n",
       "    </tr>\n",
       "    <tr>\n",
       "      <th>6</th>\n",
       "      <td>1991</td>\n",
       "      <td>66.252381</td>\n",
       "      <td>77.638095</td>\n",
       "      <td>71.945238</td>\n",
       "    </tr>\n",
       "    <tr>\n",
       "      <th>7</th>\n",
       "      <td>1992</td>\n",
       "      <td>75.960000</td>\n",
       "      <td>85.250000</td>\n",
       "      <td>80.605000</td>\n",
       "    </tr>\n",
       "    <tr>\n",
       "      <th>8</th>\n",
       "      <td>1993</td>\n",
       "      <td>76.066667</td>\n",
       "      <td>84.600000</td>\n",
       "      <td>80.333333</td>\n",
       "    </tr>\n",
       "    <tr>\n",
       "      <th>9</th>\n",
       "      <td>1994</td>\n",
       "      <td>60.825000</td>\n",
       "      <td>75.141667</td>\n",
       "      <td>67.983333</td>\n",
       "    </tr>\n",
       "    <tr>\n",
       "      <th>10</th>\n",
       "      <td>1995</td>\n",
       "      <td>81.180000</td>\n",
       "      <td>87.300000</td>\n",
       "      <td>84.240000</td>\n",
       "    </tr>\n",
       "    <tr>\n",
       "      <th>11</th>\n",
       "      <td>1996</td>\n",
       "      <td>69.471429</td>\n",
       "      <td>76.542857</td>\n",
       "      <td>73.007143</td>\n",
       "    </tr>\n",
       "    <tr>\n",
       "      <th>12</th>\n",
       "      <td>1997</td>\n",
       "      <td>61.866667</td>\n",
       "      <td>77.066667</td>\n",
       "      <td>69.466667</td>\n",
       "    </tr>\n",
       "    <tr>\n",
       "      <th>13</th>\n",
       "      <td>1998</td>\n",
       "      <td>37.975000</td>\n",
       "      <td>59.100000</td>\n",
       "      <td>48.537500</td>\n",
       "    </tr>\n",
       "    <tr>\n",
       "      <th>14</th>\n",
       "      <td>1999</td>\n",
       "      <td>89.657143</td>\n",
       "      <td>91.814286</td>\n",
       "      <td>90.735714</td>\n",
       "    </tr>\n",
       "    <tr>\n",
       "      <th>15</th>\n",
       "      <td>2000</td>\n",
       "      <td>71.744118</td>\n",
       "      <td>82.047059</td>\n",
       "      <td>76.895588</td>\n",
       "    </tr>\n",
       "    <tr>\n",
       "      <th>16</th>\n",
       "      <td>2001</td>\n",
       "      <td>81.048276</td>\n",
       "      <td>88.131034</td>\n",
       "      <td>84.589655</td>\n",
       "    </tr>\n",
       "    <tr>\n",
       "      <th>17</th>\n",
       "      <td>2002</td>\n",
       "      <td>76.081250</td>\n",
       "      <td>85.018750</td>\n",
       "      <td>80.550000</td>\n",
       "    </tr>\n",
       "    <tr>\n",
       "      <th>18</th>\n",
       "      <td>2003</td>\n",
       "      <td>54.685714</td>\n",
       "      <td>65.528571</td>\n",
       "      <td>60.107143</td>\n",
       "    </tr>\n",
       "    <tr>\n",
       "      <th>19</th>\n",
       "      <td>2004</td>\n",
       "      <td>76.584848</td>\n",
       "      <td>86.542424</td>\n",
       "      <td>81.563636</td>\n",
       "    </tr>\n",
       "    <tr>\n",
       "      <th>20</th>\n",
       "      <td>2005</td>\n",
       "      <td>64.690000</td>\n",
       "      <td>77.870000</td>\n",
       "      <td>71.280000</td>\n",
       "    </tr>\n",
       "  </tbody>\n",
       "</table>\n",
       "</div>"
      ],
      "text/plain": [
       "Gender  Year  Female 15+ yr  Male 15+ yr     Adults\n",
       "0       1985      80.325000    88.175000  84.250000\n",
       "1       1986      52.525000    66.650000  59.587500\n",
       "2       1987      51.600000    70.533333  61.066667\n",
       "3       1988      27.425000    50.175000  38.800000\n",
       "4       1989      95.810000    98.670000  97.240000\n",
       "5       1990      74.657143    85.121429  79.889286\n",
       "6       1991      66.252381    77.638095  71.945238\n",
       "7       1992      75.960000    85.250000  80.605000\n",
       "8       1993      76.066667    84.600000  80.333333\n",
       "9       1994      60.825000    75.141667  67.983333\n",
       "10      1995      81.180000    87.300000  84.240000\n",
       "11      1996      69.471429    76.542857  73.007143\n",
       "12      1997      61.866667    77.066667  69.466667\n",
       "13      1998      37.975000    59.100000  48.537500\n",
       "14      1999      89.657143    91.814286  90.735714\n",
       "15      2000      71.744118    82.047059  76.895588\n",
       "16      2001      81.048276    88.131034  84.589655\n",
       "17      2002      76.081250    85.018750  80.550000\n",
       "18      2003      54.685714    65.528571  60.107143\n",
       "19      2004      76.584848    86.542424  81.563636\n",
       "20      2005      64.690000    77.870000  71.280000"
      ]
     },
     "execution_count": 156,
     "metadata": {},
     "output_type": "execute_result"
    }
   ],
   "source": [
    "adult_lit_pivot_year"
   ]
  },
  {
   "cell_type": "code",
   "execution_count": 157,
   "id": "e37616e5",
   "metadata": {},
   "outputs": [
    {
     "data": {
      "text/plain": [
       "<Figure size 1000x600 with 0 Axes>"
      ]
     },
     "metadata": {},
     "output_type": "display_data"
    },
    {
     "data": {
      "image/png": "[encoded data removed]",
      "text/plain": [
       "<Figure size 640x480 with 1 Axes>"
      ]
     },
     "metadata": {},
     "output_type": "display_data"
    }
   ],
   "source": [
    "plt.figure(figsize = (10,6));\n",
    "\n",
    "adult_lit.groupby(['Year'])[['Percent_Value']].mean().plot(kind = 'bar');\n",
    "plt.title('Mean Percent Value Per Year');\n",
    "plt.ylabel('Percent Value');\n",
    "plt.xticks(rotation = 50);"
   ]
  },
  {
   "cell_type": "markdown",
   "id": "13561dc6",
   "metadata": {},
   "source": [
    "When observing the countries with the highest adult literacy rate, we find the the lowest adult lit rate belong to females 15 years old +."
   ]
  },
  {
   "cell_type": "markdown",
   "id": "b821bbaf",
   "metadata": {},
   "source": [
    "**Introducing GDP_df and merging with Adult_lit**"
   ]
  },
  {
   "cell_type": "code",
   "execution_count": 158,
   "id": "99d36cce",
   "metadata": {},
   "outputs": [],
   "source": [
    "GDP_df = pd.read_csv('../data/gdp_per_capita.csv')"
   ]
  },
  {
   "cell_type": "code",
   "execution_count": 159,
   "id": "64970c54",
   "metadata": {},
   "outputs": [],
   "source": [
    "GDP_df = GDP_df.drop(['Value Footnotes'], axis = 1)"
   ]
  },
  {
   "cell_type": "code",
   "execution_count": 160,
   "id": "6fed2c3a",
   "metadata": {},
   "outputs": [],
   "source": [
    "GDP_df = GDP_df.rename(columns = {'Country or Area' : 'Country', 'Value' : 'GDP_Per_Capita'})"
   ]
  },
  {
   "cell_type": "code",
   "execution_count": 152,
   "id": "ac5fba58",
   "metadata": {},
   "outputs": [],
   "source": [
    "adult_lit_GDP = pd.merge(GDP_df, adult_lit)"
   ]
  },
  {
   "cell_type": "code",
   "execution_count": 161,
   "id": "adc860b0",
   "metadata": {},
   "outputs": [
    {
     "data": {
      "text/html": [
       "<div>\n",
       "<style scoped>\n",
       "    .dataframe tbody tr th:only-of-type {\n",
       "        vertical-align: middle;\n",
       "    }\n",
       "\n",
       "    .dataframe tbody tr th {\n",
       "        vertical-align: top;\n",
       "    }\n",
       "\n",
       "    .dataframe thead th {\n",
       "        text-align: right;\n",
       "    }\n",
       "</style>\n",
       "<table border=\"1\" class=\"dataframe\">\n",
       "  <thead>\n",
       "    <tr style=\"text-align: right;\">\n",
       "      <th></th>\n",
       "      <th>Country</th>\n",
       "      <th>Year</th>\n",
       "      <th>GDP_Per_Capita</th>\n",
       "      <th>Gender</th>\n",
       "      <th>Percent_Value</th>\n",
       "    </tr>\n",
       "  </thead>\n",
       "  <tbody>\n",
       "    <tr>\n",
       "      <th>0</th>\n",
       "      <td>Albania</td>\n",
       "      <td>2001</td>\n",
       "      <td>6441.449833</td>\n",
       "      <td>Female 15+ yr</td>\n",
       "      <td>98.3</td>\n",
       "    </tr>\n",
       "    <tr>\n",
       "      <th>1</th>\n",
       "      <td>Albania</td>\n",
       "      <td>2001</td>\n",
       "      <td>6441.449833</td>\n",
       "      <td>Male 15+ yr</td>\n",
       "      <td>99.2</td>\n",
       "    </tr>\n",
       "    <tr>\n",
       "      <th>2</th>\n",
       "      <td>Algeria</td>\n",
       "      <td>2002</td>\n",
       "      <td>9232.415784</td>\n",
       "      <td>Female 15+ yr</td>\n",
       "      <td>60.1</td>\n",
       "    </tr>\n",
       "    <tr>\n",
       "      <th>3</th>\n",
       "      <td>Algeria</td>\n",
       "      <td>2002</td>\n",
       "      <td>9232.415784</td>\n",
       "      <td>Male 15+ yr</td>\n",
       "      <td>79.6</td>\n",
       "    </tr>\n",
       "    <tr>\n",
       "      <th>4</th>\n",
       "      <td>Angola</td>\n",
       "      <td>2001</td>\n",
       "      <td>4746.660523</td>\n",
       "      <td>Female 15+ yr</td>\n",
       "      <td>54.2</td>\n",
       "    </tr>\n",
       "    <tr>\n",
       "      <th>...</th>\n",
       "      <td>...</td>\n",
       "      <td>...</td>\n",
       "      <td>...</td>\n",
       "      <td>...</td>\n",
       "      <td>...</td>\n",
       "    </tr>\n",
       "    <tr>\n",
       "      <th>355</th>\n",
       "      <td>Zambia</td>\n",
       "      <td>1990</td>\n",
       "      <td>2190.181724</td>\n",
       "      <td>Male 15+ yr</td>\n",
       "      <td>73.0</td>\n",
       "    </tr>\n",
       "    <tr>\n",
       "      <th>356</th>\n",
       "      <td>Zimbabwe</td>\n",
       "      <td>2004</td>\n",
       "      <td>1979.200783</td>\n",
       "      <td>Female 15+ yr</td>\n",
       "      <td>86.2</td>\n",
       "    </tr>\n",
       "    <tr>\n",
       "      <th>357</th>\n",
       "      <td>Zimbabwe</td>\n",
       "      <td>2004</td>\n",
       "      <td>1979.200783</td>\n",
       "      <td>Male 15+ yr</td>\n",
       "      <td>92.7</td>\n",
       "    </tr>\n",
       "    <tr>\n",
       "      <th>358</th>\n",
       "      <td>Zimbabwe</td>\n",
       "      <td>1992</td>\n",
       "      <td>2437.152908</td>\n",
       "      <td>Female 15+ yr</td>\n",
       "      <td>78.5</td>\n",
       "    </tr>\n",
       "    <tr>\n",
       "      <th>359</th>\n",
       "      <td>Zimbabwe</td>\n",
       "      <td>1992</td>\n",
       "      <td>2437.152908</td>\n",
       "      <td>Male 15+ yr</td>\n",
       "      <td>88.9</td>\n",
       "    </tr>\n",
       "  </tbody>\n",
       "</table>\n",
       "<p>360 rows × 5 columns</p>\n",
       "</div>"
      ],
      "text/plain": [
       "      Country  Year  GDP_Per_Capita         Gender  Percent_Value\n",
       "0     Albania  2001     6441.449833  Female 15+ yr           98.3\n",
       "1     Albania  2001     6441.449833    Male 15+ yr           99.2\n",
       "2     Algeria  2002     9232.415784  Female 15+ yr           60.1\n",
       "3     Algeria  2002     9232.415784    Male 15+ yr           79.6\n",
       "4      Angola  2001     4746.660523  Female 15+ yr           54.2\n",
       "..        ...   ...             ...            ...            ...\n",
       "355    Zambia  1990     2190.181724    Male 15+ yr           73.0\n",
       "356  Zimbabwe  2004     1979.200783  Female 15+ yr           86.2\n",
       "357  Zimbabwe  2004     1979.200783    Male 15+ yr           92.7\n",
       "358  Zimbabwe  1992     2437.152908  Female 15+ yr           78.5\n",
       "359  Zimbabwe  1992     2437.152908    Male 15+ yr           88.9\n",
       "\n",
       "[360 rows x 5 columns]"
      ]
     },
     "execution_count": 161,
     "metadata": {},
     "output_type": "execute_result"
    }
   ],
   "source": [
    "adult_lit_GDP"
   ]
  },
  {
   "cell_type": "code",
   "execution_count": 163,
   "id": "241fafc4",
   "metadata": {},
   "outputs": [],
   "source": [
    "adult_lit_GDP = adult_lit_GDP.groupby(['Country', 'Year'])[['Percent_Value', 'GDP_Per_Capita']].mean().reset_index()"
   ]
  },
  {
   "cell_type": "code",
   "execution_count": 164,
   "id": "d0c822aa",
   "metadata": {},
   "outputs": [
    {
     "data": {
      "text/html": [
       "<div>\n",
       "<style scoped>\n",
       "    .dataframe tbody tr th:only-of-type {\n",
       "        vertical-align: middle;\n",
       "    }\n",
       "\n",
       "    .dataframe tbody tr th {\n",
       "        vertical-align: top;\n",
       "    }\n",
       "\n",
       "    .dataframe thead th {\n",
       "        text-align: right;\n",
       "    }\n",
       "</style>\n",
       "<table border=\"1\" class=\"dataframe\">\n",
       "  <thead>\n",
       "    <tr style=\"text-align: right;\">\n",
       "      <th></th>\n",
       "      <th>Country</th>\n",
       "      <th>Year</th>\n",
       "      <th>Percent_Value</th>\n",
       "      <th>GDP_Per_Capita</th>\n",
       "    </tr>\n",
       "  </thead>\n",
       "  <tbody>\n",
       "    <tr>\n",
       "      <th>0</th>\n",
       "      <td>Albania</td>\n",
       "      <td>2001</td>\n",
       "      <td>98.75</td>\n",
       "      <td>6441.449833</td>\n",
       "    </tr>\n",
       "    <tr>\n",
       "      <th>1</th>\n",
       "      <td>Algeria</td>\n",
       "      <td>2002</td>\n",
       "      <td>69.85</td>\n",
       "      <td>9232.415784</td>\n",
       "    </tr>\n",
       "    <tr>\n",
       "      <th>2</th>\n",
       "      <td>Angola</td>\n",
       "      <td>2001</td>\n",
       "      <td>68.55</td>\n",
       "      <td>4746.660523</td>\n",
       "    </tr>\n",
       "    <tr>\n",
       "      <th>3</th>\n",
       "      <td>Argentina</td>\n",
       "      <td>1991</td>\n",
       "      <td>96.10</td>\n",
       "      <td>15221.792147</td>\n",
       "    </tr>\n",
       "    <tr>\n",
       "      <th>4</th>\n",
       "      <td>Argentina</td>\n",
       "      <td>2001</td>\n",
       "      <td>97.20</td>\n",
       "      <td>17610.755386</td>\n",
       "    </tr>\n",
       "    <tr>\n",
       "      <th>...</th>\n",
       "      <td>...</td>\n",
       "      <td>...</td>\n",
       "      <td>...</td>\n",
       "      <td>...</td>\n",
       "    </tr>\n",
       "    <tr>\n",
       "      <th>175</th>\n",
       "      <td>Vietnam</td>\n",
       "      <td>1999</td>\n",
       "      <td>90.40</td>\n",
       "      <td>3455.112485</td>\n",
       "    </tr>\n",
       "    <tr>\n",
       "      <th>176</th>\n",
       "      <td>Zambia</td>\n",
       "      <td>1990</td>\n",
       "      <td>65.20</td>\n",
       "      <td>2190.181724</td>\n",
       "    </tr>\n",
       "    <tr>\n",
       "      <th>177</th>\n",
       "      <td>Zambia</td>\n",
       "      <td>1999</td>\n",
       "      <td>68.05</td>\n",
       "      <td>1968.215220</td>\n",
       "    </tr>\n",
       "    <tr>\n",
       "      <th>178</th>\n",
       "      <td>Zimbabwe</td>\n",
       "      <td>1992</td>\n",
       "      <td>83.70</td>\n",
       "      <td>2437.152908</td>\n",
       "    </tr>\n",
       "    <tr>\n",
       "      <th>179</th>\n",
       "      <td>Zimbabwe</td>\n",
       "      <td>2004</td>\n",
       "      <td>89.45</td>\n",
       "      <td>1979.200783</td>\n",
       "    </tr>\n",
       "  </tbody>\n",
       "</table>\n",
       "<p>180 rows × 4 columns</p>\n",
       "</div>"
      ],
      "text/plain": [
       "       Country  Year  Percent_Value  GDP_Per_Capita\n",
       "0      Albania  2001          98.75     6441.449833\n",
       "1      Algeria  2002          69.85     9232.415784\n",
       "2       Angola  2001          68.55     4746.660523\n",
       "3    Argentina  1991          96.10    15221.792147\n",
       "4    Argentina  2001          97.20    17610.755386\n",
       "..         ...   ...            ...             ...\n",
       "175    Vietnam  1999          90.40     3455.112485\n",
       "176     Zambia  1990          65.20     2190.181724\n",
       "177     Zambia  1999          68.05     1968.215220\n",
       "178   Zimbabwe  1992          83.70     2437.152908\n",
       "179   Zimbabwe  2004          89.45     1979.200783\n",
       "\n",
       "[180 rows x 4 columns]"
      ]
     },
     "execution_count": 164,
     "metadata": {},
     "output_type": "execute_result"
    }
   ],
   "source": [
    "adult_lit_GDP\n"
   ]
  },
  {
   "cell_type": "code",
   "execution_count": 165,
   "id": "10dd30fb",
   "metadata": {},
   "outputs": [
    {
     "data": {
      "image/png": "[encoded data removed]",
      "text/plain": [
       "<Figure size 1200x800 with 1 Axes>"
      ]
     },
     "metadata": {},
     "output_type": "display_data"
    }
   ],
   "source": [
    "adult_lit_GDP.plot(kind = 'scatter', x = 'Percent_Value', y = 'GDP_Per_Capita', figsize = (12,8))\n",
    "plt.title('Percent Value vs. GDP');"
   ]
  },
  {
   "cell_type": "code",
   "execution_count": 166,
   "id": "e74a0d2a",
   "metadata": {},
   "outputs": [
    {
     "data": {
      "text/html": [
       "<div>\n",
       "<style scoped>\n",
       "    .dataframe tbody tr th:only-of-type {\n",
       "        vertical-align: middle;\n",
       "    }\n",
       "\n",
       "    .dataframe tbody tr th {\n",
       "        vertical-align: top;\n",
       "    }\n",
       "\n",
       "    .dataframe thead th {\n",
       "        text-align: right;\n",
       "    }\n",
       "</style>\n",
       "<table border=\"1\" class=\"dataframe\">\n",
       "  <thead>\n",
       "    <tr style=\"text-align: right;\">\n",
       "      <th></th>\n",
       "      <th>Percent_Value</th>\n",
       "      <th>GDP_Per_Capita</th>\n",
       "    </tr>\n",
       "  </thead>\n",
       "  <tbody>\n",
       "    <tr>\n",
       "      <th>Percent_Value</th>\n",
       "      <td>1.000000</td>\n",
       "      <td>0.332178</td>\n",
       "    </tr>\n",
       "    <tr>\n",
       "      <th>GDP_Per_Capita</th>\n",
       "      <td>0.332178</td>\n",
       "      <td>1.000000</td>\n",
       "    </tr>\n",
       "  </tbody>\n",
       "</table>\n",
       "</div>"
      ],
      "text/plain": [
       "                Percent_Value  GDP_Per_Capita\n",
       "Percent_Value        1.000000        0.332178\n",
       "GDP_Per_Capita       0.332178        1.000000"
      ]
     },
     "execution_count": 166,
     "metadata": {},
     "output_type": "execute_result"
    }
   ],
   "source": [
    "adult_lit_GDP[['Percent_Value', 'GDP_Per_Capita']].corr()"
   ]
  },
  {
   "cell_type": "markdown",
   "id": "72e218a5",
   "metadata": {},
   "source": [
    "**Introducing the Continent DF**"
   ]
  },
  {
   "cell_type": "code",
   "execution_count": 167,
   "id": "bc6ca472",
   "metadata": {},
   "outputs": [],
   "source": [
    "continents = pd.read_csv('../data/continents.csv')"
   ]
  },
  {
   "cell_type": "code",
   "execution_count": 168,
   "id": "6d65df5a",
   "metadata": {},
   "outputs": [],
   "source": [
    "world_adult_lit_GDP = pd.merge(adult_lit_GDP, continents)"
   ]
  },
  {
   "cell_type": "code",
   "execution_count": 169,
   "id": "c0dfa017",
   "metadata": {},
   "outputs": [
    {
     "data": {
      "text/html": [
       "<div>\n",
       "<style scoped>\n",
       "    .dataframe tbody tr th:only-of-type {\n",
       "        vertical-align: middle;\n",
       "    }\n",
       "\n",
       "    .dataframe tbody tr th {\n",
       "        vertical-align: top;\n",
       "    }\n",
       "\n",
       "    .dataframe thead th {\n",
       "        text-align: right;\n",
       "    }\n",
       "</style>\n",
       "<table border=\"1\" class=\"dataframe\">\n",
       "  <thead>\n",
       "    <tr style=\"text-align: right;\">\n",
       "      <th></th>\n",
       "      <th>Country</th>\n",
       "      <th>Year</th>\n",
       "      <th>Percent_Value</th>\n",
       "      <th>GDP_Per_Capita</th>\n",
       "      <th>Continent</th>\n",
       "    </tr>\n",
       "  </thead>\n",
       "  <tbody>\n",
       "    <tr>\n",
       "      <th>0</th>\n",
       "      <td>Albania</td>\n",
       "      <td>2001</td>\n",
       "      <td>98.75</td>\n",
       "      <td>6441.449833</td>\n",
       "      <td>Europe</td>\n",
       "    </tr>\n",
       "    <tr>\n",
       "      <th>1</th>\n",
       "      <td>Algeria</td>\n",
       "      <td>2002</td>\n",
       "      <td>69.85</td>\n",
       "      <td>9232.415784</td>\n",
       "      <td>Africa</td>\n",
       "    </tr>\n",
       "    <tr>\n",
       "      <th>2</th>\n",
       "      <td>Angola</td>\n",
       "      <td>2001</td>\n",
       "      <td>68.55</td>\n",
       "      <td>4746.660523</td>\n",
       "      <td>Africa</td>\n",
       "    </tr>\n",
       "    <tr>\n",
       "      <th>3</th>\n",
       "      <td>Argentina</td>\n",
       "      <td>1991</td>\n",
       "      <td>96.10</td>\n",
       "      <td>15221.792147</td>\n",
       "      <td>South America</td>\n",
       "    </tr>\n",
       "    <tr>\n",
       "      <th>4</th>\n",
       "      <td>Argentina</td>\n",
       "      <td>2001</td>\n",
       "      <td>97.20</td>\n",
       "      <td>17610.755386</td>\n",
       "      <td>South America</td>\n",
       "    </tr>\n",
       "    <tr>\n",
       "      <th>...</th>\n",
       "      <td>...</td>\n",
       "      <td>...</td>\n",
       "      <td>...</td>\n",
       "      <td>...</td>\n",
       "      <td>...</td>\n",
       "    </tr>\n",
       "    <tr>\n",
       "      <th>175</th>\n",
       "      <td>Vietnam</td>\n",
       "      <td>1999</td>\n",
       "      <td>90.40</td>\n",
       "      <td>3455.112485</td>\n",
       "      <td>Asia</td>\n",
       "    </tr>\n",
       "    <tr>\n",
       "      <th>176</th>\n",
       "      <td>Zambia</td>\n",
       "      <td>1990</td>\n",
       "      <td>65.20</td>\n",
       "      <td>2190.181724</td>\n",
       "      <td>Africa</td>\n",
       "    </tr>\n",
       "    <tr>\n",
       "      <th>177</th>\n",
       "      <td>Zambia</td>\n",
       "      <td>1999</td>\n",
       "      <td>68.05</td>\n",
       "      <td>1968.215220</td>\n",
       "      <td>Africa</td>\n",
       "    </tr>\n",
       "    <tr>\n",
       "      <th>178</th>\n",
       "      <td>Zimbabwe</td>\n",
       "      <td>1992</td>\n",
       "      <td>83.70</td>\n",
       "      <td>2437.152908</td>\n",
       "      <td>Africa</td>\n",
       "    </tr>\n",
       "    <tr>\n",
       "      <th>179</th>\n",
       "      <td>Zimbabwe</td>\n",
       "      <td>2004</td>\n",
       "      <td>89.45</td>\n",
       "      <td>1979.200783</td>\n",
       "      <td>Africa</td>\n",
       "    </tr>\n",
       "  </tbody>\n",
       "</table>\n",
       "<p>180 rows × 5 columns</p>\n",
       "</div>"
      ],
      "text/plain": [
       "       Country  Year  Percent_Value  GDP_Per_Capita      Continent\n",
       "0      Albania  2001          98.75     6441.449833         Europe\n",
       "1      Algeria  2002          69.85     9232.415784         Africa\n",
       "2       Angola  2001          68.55     4746.660523         Africa\n",
       "3    Argentina  1991          96.10    15221.792147  South America\n",
       "4    Argentina  2001          97.20    17610.755386  South America\n",
       "..         ...   ...            ...             ...            ...\n",
       "175    Vietnam  1999          90.40     3455.112485           Asia\n",
       "176     Zambia  1990          65.20     2190.181724         Africa\n",
       "177     Zambia  1999          68.05     1968.215220         Africa\n",
       "178   Zimbabwe  1992          83.70     2437.152908         Africa\n",
       "179   Zimbabwe  2004          89.45     1979.200783         Africa\n",
       "\n",
       "[180 rows x 5 columns]"
      ]
     },
     "execution_count": 169,
     "metadata": {},
     "output_type": "execute_result"
    }
   ],
   "source": [
    "world_adult_lit_GDP "
   ]
  },
  {
   "cell_type": "markdown",
   "id": "565a2f94",
   "metadata": {},
   "source": [
    "**4.Which continent has the highest Adult Literacy**"
   ]
  },
  {
   "cell_type": "code",
   "execution_count": 170,
   "id": "741eb4f7",
   "metadata": {},
   "outputs": [
    {
     "data": {
      "text/html": [
       "<div>\n",
       "<style scoped>\n",
       "    .dataframe tbody tr th:only-of-type {\n",
       "        vertical-align: middle;\n",
       "    }\n",
       "\n",
       "    .dataframe tbody tr th {\n",
       "        vertical-align: top;\n",
       "    }\n",
       "\n",
       "    .dataframe thead th {\n",
       "        text-align: right;\n",
       "    }\n",
       "</style>\n",
       "<table border=\"1\" class=\"dataframe\">\n",
       "  <thead>\n",
       "    <tr style=\"text-align: right;\">\n",
       "      <th></th>\n",
       "      <th>Percent_Value</th>\n",
       "    </tr>\n",
       "    <tr>\n",
       "      <th>Continent</th>\n",
       "      <th></th>\n",
       "    </tr>\n",
       "  </thead>\n",
       "  <tbody>\n",
       "    <tr>\n",
       "      <th>Africa</th>\n",
       "      <td>58.630328</td>\n",
       "    </tr>\n",
       "    <tr>\n",
       "      <th>Asia</th>\n",
       "      <td>79.011765</td>\n",
       "    </tr>\n",
       "    <tr>\n",
       "      <th>Europe</th>\n",
       "      <td>96.819565</td>\n",
       "    </tr>\n",
       "    <tr>\n",
       "      <th>North America</th>\n",
       "      <td>85.125000</td>\n",
       "    </tr>\n",
       "    <tr>\n",
       "      <th>Oceania</th>\n",
       "      <td>88.175000</td>\n",
       "    </tr>\n",
       "    <tr>\n",
       "      <th>South America</th>\n",
       "      <td>90.300000</td>\n",
       "    </tr>\n",
       "  </tbody>\n",
       "</table>\n",
       "</div>"
      ],
      "text/plain": [
       "               Percent_Value\n",
       "Continent                   \n",
       "Africa             58.630328\n",
       "Asia               79.011765\n",
       "Europe             96.819565\n",
       "North America      85.125000\n",
       "Oceania            88.175000\n",
       "South America      90.300000"
      ]
     },
     "execution_count": 170,
     "metadata": {},
     "output_type": "execute_result"
    }
   ],
   "source": [
    "world_adult_lit_GDP.groupby(['Continent'])[['Percent_Value']].mean()"
   ]
  },
  {
   "cell_type": "code",
   "execution_count": 174,
   "id": "5186dde1",
   "metadata": {},
   "outputs": [
    {
     "data": {
      "text/plain": [
       "<Figure size 1000x600 with 0 Axes>"
      ]
     },
     "metadata": {},
     "output_type": "display_data"
    },
    {
     "data": {
      "image/png": "[encoded data removed]",
      "text/plain": [
       "<Figure size 640x480 with 1 Axes>"
      ]
     },
     "metadata": {},
     "output_type": "display_data"
    }
   ],
   "source": [
    "plt.figure(figsize = (10,6))\n",
    "\n",
    "world_adult_lit_GDP.groupby(['Continent'])[['Percent_Value']].mean().plot(kind = 'bar')\n",
    "plt.title('Mean Percent Value Per Continent')\n",
    "plt.ylabel('Percent Value')\n",
    "\n",
    "plt.xticks(rotation = 50);"
   ]
  },
  {
   "cell_type": "code",
   "execution_count": null,
   "id": "1a52368d",
   "metadata": {},
   "outputs": [],
   "source": []
  }
 ],
 "metadata": {
  "kernelspec": {
   "display_name": "Python 3 (ipykernel)",
   "language": "python",
   "name": "python3"
  },
  "language_info": {
   "codemirror_mode": {
    "name": "ipython",
    "version": 3
   },
   "file_extension": ".py",
   "mimetype": "text/x-python",
   "name": "python",
   "nbconvert_exporter": "python",
   "pygments_lexer": "ipython3",
   "version": "3.10.9"
  }
 },
 "nbformat": 4,
 "nbformat_minor": 5
}
